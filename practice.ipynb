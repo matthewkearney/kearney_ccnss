{
 "cells": [
  {
   "cell_type": "code",
   "execution_count": null,
   "metadata": {},
   "outputs": [],
   "source": [
    "t, t_max, dt = 0, 10, 1\n",
    "\n",
    "while t < t_max:\n",
    "    print(t)\n",
    "    t += dt\n",
    "print(\"Finished at value t = \", t)"
   ]
  },
  {
   "cell_type": "code",
   "execution_count": null,
   "metadata": {},
   "outputs": [],
   "source": [
    "t, t_max, dt = 0, 10, 1\n",
    "\n",
    "while t <= t_max:\n",
    "    if t > 5:\n",
    "        print(\"I’m done!\")\n",
    "        break\n",
    "    elif t % 2 == 0:\n",
    "        print(t, \"is even\")\n",
    "        t += dt\n",
    "        continue\n",
    "t += dt\n",
    "print(\"Finished at value t = \", t)"
   ]
  },
  {
   "cell_type": "code",
   "execution_count": null,
   "metadata": {},
   "outputs": [],
   "source": [
    "3"
   ]
  },
  {
   "cell_type": "code",
   "execution_count": null,
   "metadata": {},
   "outputs": [],
   "source": []
  }
 ],
 "metadata": {
  "kernelspec": {
   "display_name": "Python 3",
   "language": "python",
   "name": "python3"
  },
  "language_info": {
   "codemirror_mode": {
    "name": "ipython",
    "version": 3
   },
   "file_extension": ".py",
   "mimetype": "text/x-python",
   "name": "python",
   "nbconvert_exporter": "python",
   "pygments_lexer": "ipython3",
   "version": "3.6.3"
  }
 },
 "nbformat": 4,
 "nbformat_minor": 2
}
